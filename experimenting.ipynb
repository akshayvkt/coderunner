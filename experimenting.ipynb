{
 "cells": [
  {
   "cell_type": "code",
   "execution_count": 6,
   "id": "75a9c9a2",
   "metadata": {},
   "outputs": [],
   "source": [
    "import torch"
   ]
  },
  {
   "cell_type": "code",
   "execution_count": 9,
   "id": "3d504f08",
   "metadata": {
    "scrolled": true
   },
   "outputs": [
    {
     "data": {
      "text/plain": [
       "tensor([[ 0.5500, -2.9076],\n",
       "        [-0.4125,  0.5840]])"
      ]
     },
     "execution_count": 9,
     "metadata": {},
     "output_type": "execute_result"
    }
   ],
   "source": [
    "def alzebra(a,b):\n",
    "    return torch.randn(a,b)\n",
    "\n",
    "def aljebra(a,b):\n",
    "    return torch.randn(b,a)\n",
    "    \n",
    "eval(\"alzebra(2,3)@aljebra(2,3)\")"
   ]
  },
  {
   "cell_type": "code",
   "execution_count": 10,
   "id": "2c0b5de1",
   "metadata": {},
   "outputs": [
    {
     "data": {
      "text/plain": [
       "tensor([[ 1.3971, -0.3087],\n",
       "        [-0.3146,  0.1134]])"
      ]
     },
     "execution_count": 10,
     "metadata": {},
     "output_type": "execute_result"
    }
   ],
   "source": [
    "alzebra(2,3)@aljebra(2,3)"
   ]
  },
  {
   "cell_type": "code",
   "execution_count": 25,
   "id": "d5823c79",
   "metadata": {},
   "outputs": [
    {
     "name": "stdout",
     "output_type": "stream",
     "text": [
      "5\n"
     ]
    }
   ],
   "source": [
    "counter = 0\n",
    "import pandas as pd\n",
    "\n",
    "df = pd.DataFrame([[2,3],[4,5]])\n",
    "df.rename(columns = {0:'Column1',1:'Column2'})\n",
    "counter = counter+df.iloc[1][1]\n",
    "print(counter)"
   ]
  },
  {
   "cell_type": "code",
   "execution_count": 22,
   "id": "8caf8283",
   "metadata": {},
   "outputs": [
    {
     "data": {
      "text/html": [
       "<div>\n",
       "<style scoped>\n",
       "    .dataframe tbody tr th:only-of-type {\n",
       "        vertical-align: middle;\n",
       "    }\n",
       "\n",
       "    .dataframe tbody tr th {\n",
       "        vertical-align: top;\n",
       "    }\n",
       "\n",
       "    .dataframe thead th {\n",
       "        text-align: right;\n",
       "    }\n",
       "</style>\n",
       "<table border=\"1\" class=\"dataframe\">\n",
       "  <thead>\n",
       "    <tr style=\"text-align: right;\">\n",
       "      <th></th>\n",
       "      <th>Column1</th>\n",
       "      <th>Column2</th>\n",
       "    </tr>\n",
       "  </thead>\n",
       "  <tbody>\n",
       "    <tr>\n",
       "      <th>0</th>\n",
       "      <td>2</td>\n",
       "      <td>3</td>\n",
       "    </tr>\n",
       "    <tr>\n",
       "      <th>1</th>\n",
       "      <td>4</td>\n",
       "      <td>5</td>\n",
       "    </tr>\n",
       "  </tbody>\n",
       "</table>\n",
       "</div>"
      ],
      "text/plain": [
       "   Column1  Column2\n",
       "0        2        3\n",
       "1        4        5"
      ]
     },
     "execution_count": 22,
     "metadata": {},
     "output_type": "execute_result"
    }
   ],
   "source": []
  },
  {
   "cell_type": "code",
   "execution_count": 27,
   "id": "64949da9",
   "metadata": {},
   "outputs": [
    {
     "name": "stdout",
     "output_type": "stream",
     "text": [
      "Note: you may need to restart the kernel to use updated packages.\n"
     ]
    }
   ],
   "source": [
    "pip install -q ipython"
   ]
  },
  {
   "cell_type": "code",
   "execution_count": 28,
   "id": "010bba7c",
   "metadata": {},
   "outputs": [],
   "source": []
  },
  {
   "cell_type": "code",
   "execution_count": 5,
   "id": "c6424ae6",
   "metadata": {},
   "outputs": [
    {
     "name": "stdout",
     "output_type": "stream",
     "text": [
      "12\n"
     ]
    },
    {
     "data": {
      "text/plain": [
       "tensor([-1.9123,  0.1678,  0.6882, -0.0486,  0.1731, -0.0801, -0.9577, -0.0945,\n",
       "        -1.2874,  0.4390,  0.2123,  0.3966])"
      ]
     },
     "execution_count": 5,
     "metadata": {},
     "output_type": "execute_result"
    }
   ],
   "source": [
    "from IPython import get_ipython\n",
    "ipython = get_ipython()\n",
    "result = ipython.run_cell(\"\"\"\n",
    "counter = 7\n",
    "import pandas as pd\n",
    "import torch\n",
    "\n",
    "df = pd.DataFrame([[2,3],[4,5]])\n",
    "df.rename(columns = {0:'Column1',1:'Column2'})\n",
    "counter = counter+df.iloc[1][1]\n",
    "print(counter)\n",
    "torch.randn(counter)\n",
    "\"\"\")"
   ]
  },
  {
   "cell_type": "code",
   "execution_count": 6,
   "id": "e6380a3a",
   "metadata": {
    "scrolled": true
   },
   "outputs": [
    {
     "name": "stdout",
     "output_type": "stream",
     "text": [
      "12\n"
     ]
    },
    {
     "data": {
      "text/plain": [
       "tensor([ 0.2577,  0.1263,  1.5199, -1.5585, -1.4927, -1.3101,  1.3938,  1.3056,\n",
       "         0.0892, -0.4559, -0.9276, -2.8242])"
      ]
     },
     "execution_count": 6,
     "metadata": {},
     "output_type": "execute_result"
    }
   ],
   "source": [
    "counter = 7\n",
    "import pandas as pd\n",
    "import torch\n",
    "\n",
    "df = pd.DataFrame([[2,3],[4,5]])\n",
    "df.rename(columns = {0:'Column1',1:'Column2'})\n",
    "counter = counter+df.iloc[1][1]\n",
    "print(counter)\n",
    "torch.randn(counter)"
   ]
  },
  {
   "cell_type": "code",
   "execution_count": 1,
   "id": "d37afc22",
   "metadata": {},
   "outputs": [
    {
     "name": "stdout",
     "output_type": "stream",
     "text": [
      "12\n",
      "Out[1]: \n",
      "tensor([-0.8488, -0.9240, -1.1886,  0.5282, -1.4615,  0.9128,  0.5277,  0.1372,\n",
      "         0.8284, -0.3688,  0.4460, -2.5680])\n"
     ]
    }
   ],
   "source": [
    "from IPython.core.interactiveshell import InteractiveShell\n",
    "ipython = InteractiveShell()\n",
    "result = ipython.run_cell(\"\"\"\n",
    "counter = 7\n",
    "import pandas as pd\n",
    "import torch\n",
    "\n",
    "df = pd.DataFrame([[2,3],[4,5]])\n",
    "df.rename(columns = {0:'Column1',1:'Column2'})\n",
    "counter = counter+df.iloc[1][1]\n",
    "print(counter)\n",
    "torch.randn(counter)\n",
    "\"\"\")"
   ]
  },
  {
   "cell_type": "code",
   "execution_count": null,
   "id": "2efcfbf6",
   "metadata": {},
   "outputs": [],
   "source": []
  }
 ],
 "metadata": {
  "kernelspec": {
   "display_name": "Python 3 (ipykernel)",
   "language": "python",
   "name": "python3"
  },
  "language_info": {
   "codemirror_mode": {
    "name": "ipython",
    "version": 3
   },
   "file_extension": ".py",
   "mimetype": "text/x-python",
   "name": "python",
   "nbconvert_exporter": "python",
   "pygments_lexer": "ipython3",
   "version": "3.10.9"
  }
 },
 "nbformat": 4,
 "nbformat_minor": 5
}
