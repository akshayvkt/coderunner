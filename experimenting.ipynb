{
 "cells": [
  {
   "cell_type": "code",
   "execution_count": 6,
   "id": "c7423288",
   "metadata": {},
   "outputs": [],
   "source": [
    "import torch"
   ]
  },
  {
   "cell_type": "code",
   "execution_count": 9,
   "id": "45b96720",
   "metadata": {
    "scrolled": true
   },
   "outputs": [
    {
     "data": {
      "text/plain": [
       "tensor([[ 0.5500, -2.9076],\n",
       "        [-0.4125,  0.5840]])"
      ]
     },
     "execution_count": 9,
     "metadata": {},
     "output_type": "execute_result"
    }
   ],
   "source": [
    "def alzebra(a,b):\n",
    "    return torch.randn(a,b)\n",
    "\n",
    "def aljebra(a,b):\n",
    "    return torch.randn(b,a)\n",
    "    \n",
    "eval(\"alzebra(2,3)@aljebra(2,3)\")"
   ]
  },
  {
   "cell_type": "code",
   "execution_count": 10,
   "id": "44ffb835",
   "metadata": {},
   "outputs": [
    {
     "data": {
      "text/plain": [
       "tensor([[ 1.3971, -0.3087],\n",
       "        [-0.3146,  0.1134]])"
      ]
     },
     "execution_count": 10,
     "metadata": {},
     "output_type": "execute_result"
    }
   ],
   "source": [
    "alzebra(2,3)@aljebra(2,3)"
   ]
  },
  {
   "cell_type": "code",
   "execution_count": 25,
   "id": "ef960286",
   "metadata": {},
   "outputs": [
    {
     "name": "stdout",
     "output_type": "stream",
     "text": [
      "5\n"
     ]
    }
   ],
   "source": [
    "counter = 0\n",
    "import pandas as pd\n",
    "\n",
    "df = pd.DataFrame([[2,3],[4,5]])\n",
    "df.rename(columns = {0:'Column1',1:'Column2'})\n",
    "counter = counter+df.iloc[1][1]\n",
    "print(counter)"
   ]
  },
  {
   "cell_type": "code",
   "execution_count": 22,
   "id": "b3d9c96e",
   "metadata": {},
   "outputs": [
    {
     "data": {
      "text/html": [
       "<div>\n",
       "<style scoped>\n",
       "    .dataframe tbody tr th:only-of-type {\n",
       "        vertical-align: middle;\n",
       "    }\n",
       "\n",
       "    .dataframe tbody tr th {\n",
       "        vertical-align: top;\n",
       "    }\n",
       "\n",
       "    .dataframe thead th {\n",
       "        text-align: right;\n",
       "    }\n",
       "</style>\n",
       "<table border=\"1\" class=\"dataframe\">\n",
       "  <thead>\n",
       "    <tr style=\"text-align: right;\">\n",
       "      <th></th>\n",
       "      <th>Column1</th>\n",
       "      <th>Column2</th>\n",
       "    </tr>\n",
       "  </thead>\n",
       "  <tbody>\n",
       "    <tr>\n",
       "      <th>0</th>\n",
       "      <td>2</td>\n",
       "      <td>3</td>\n",
       "    </tr>\n",
       "    <tr>\n",
       "      <th>1</th>\n",
       "      <td>4</td>\n",
       "      <td>5</td>\n",
       "    </tr>\n",
       "  </tbody>\n",
       "</table>\n",
       "</div>"
      ],
      "text/plain": [
       "   Column1  Column2\n",
       "0        2        3\n",
       "1        4        5"
      ]
     },
     "execution_count": 22,
     "metadata": {},
     "output_type": "execute_result"
    }
   ],
   "source": []
  },
  {
   "cell_type": "code",
   "execution_count": 27,
   "id": "4aad0075",
   "metadata": {},
   "outputs": [
    {
     "name": "stdout",
     "output_type": "stream",
     "text": [
      "Note: you may need to restart the kernel to use updated packages.\n"
     ]
    }
   ],
   "source": [
    "pip install -q ipython"
   ]
  },
  {
   "cell_type": "code",
   "execution_count": 28,
   "id": "9ec74bc7",
   "metadata": {},
   "outputs": [],
   "source": []
  },
  {
   "cell_type": "code",
   "execution_count": 5,
   "id": "112ecaa5",
   "metadata": {},
   "outputs": [
    {
     "name": "stdout",
     "output_type": "stream",
     "text": [
      "12\n"
     ]
    },
    {
     "data": {
      "text/plain": [
       "tensor([-1.9123,  0.1678,  0.6882, -0.0486,  0.1731, -0.0801, -0.9577, -0.0945,\n",
       "        -1.2874,  0.4390,  0.2123,  0.3966])"
      ]
     },
     "execution_count": 5,
     "metadata": {},
     "output_type": "execute_result"
    }
   ],
   "source": [
    "from IPython import get_ipython\n",
    "ipython = get_ipython()\n",
    "result = ipython.run_cell(\"\"\"\n",
    "counter = 7\n",
    "import pandas as pd\n",
    "import torch\n",
    "\n",
    "df = pd.DataFrame([[2,3],[4,5]])\n",
    "df.rename(columns = {0:'Column1',1:'Column2'})\n",
    "counter = counter+df.iloc[1][1]\n",
    "print(counter)\n",
    "torch.randn(counter)\n",
    "\"\"\")"
   ]
  },
  {
   "cell_type": "code",
   "execution_count": 6,
   "id": "fef8c6ab",
   "metadata": {
    "scrolled": true
   },
   "outputs": [
    {
     "name": "stdout",
     "output_type": "stream",
     "text": [
      "12\n"
     ]
    },
    {
     "data": {
      "text/plain": [
       "tensor([ 0.2577,  0.1263,  1.5199, -1.5585, -1.4927, -1.3101,  1.3938,  1.3056,\n",
       "         0.0892, -0.4559, -0.9276, -2.8242])"
      ]
     },
     "execution_count": 6,
     "metadata": {},
     "output_type": "execute_result"
    }
   ],
   "source": [
    "counter = 7\n",
    "import pandas as pd\n",
    "import torch\n",
    "\n",
    "df = pd.DataFrame([[2,3],[4,5]])\n",
    "df.rename(columns = {0:'Column1',1:'Column2'})\n",
    "counter = counter+df.iloc[1][1]\n",
    "print(counter)\n",
    "torch.randn(counter)"
   ]
  },
  {
   "cell_type": "code",
   "execution_count": 1,
   "id": "24226c69",
   "metadata": {},
   "outputs": [
    {
     "name": "stdout",
     "output_type": "stream",
     "text": [
      "12\n",
      "Out[1]: \n",
      "tensor([ 2.3743, -0.6894, -0.1947, -0.8825, -0.8387,  0.2825, -1.1453, -0.8488,\n",
      "         0.0390, -0.4142,  1.6118, -0.0242])\n"
     ]
    }
   ],
   "source": [
    "from IPython.core.interactiveshell import InteractiveShell\n",
    "ipython = InteractiveShell()\n",
    "result = ipython.run_cell(\"\"\"\n",
    "counter = 7\n",
    "import pandas as pd\n",
    "import torch\n",
    "\n",
    "df = pd.DataFrame([[2,3],[4,5]])\n",
    "df.rename(columns = {0:'Column1',1:'Column2'})\n",
    "counter = counter+df.iloc[1][1]\n",
    "print(counter)\n",
    "torch.randn(counter)\n",
    "\"\"\")"
   ]
  },
  {
   "cell_type": "code",
   "execution_count": 3,
   "id": "9bcac0aa",
   "metadata": {},
   "outputs": [
    {
     "data": {
      "text/plain": [
       "5"
      ]
     },
     "execution_count": 3,
     "metadata": {},
     "output_type": "execute_result"
    }
   ],
   "source": [
    "eval('2+3')"
   ]
  },
  {
   "cell_type": "code",
   "execution_count": 8,
   "id": "91d5ae7b",
   "metadata": {},
   "outputs": [
    {
     "name": "stdout",
     "output_type": "stream",
     "text": [
      "None\n"
     ]
    }
   ],
   "source": [
    "namespace={}\n",
    "result = exec('2+3',namespace)\n",
    "print(result)"
   ]
  },
  {
   "cell_type": "code",
   "execution_count": null,
   "id": "a1058f41",
   "metadata": {},
   "outputs": [],
   "source": []
  }
 ],
 "metadata": {
  "kernelspec": {
   "display_name": "Python 3 (ipykernel)",
   "language": "python",
   "name": "python3"
  },
  "language_info": {
   "codemirror_mode": {
    "name": "ipython",
    "version": 3
   },
   "file_extension": ".py",
   "mimetype": "text/x-python",
   "name": "python",
   "nbconvert_exporter": "python",
   "pygments_lexer": "ipython3",
   "version": "3.10.9"
  }
 },
 "nbformat": 4,
 "nbformat_minor": 5
}
